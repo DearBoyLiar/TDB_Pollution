{
 "cells": [
  {
   "cell_type": "code",
   "execution_count": 31,
   "metadata": {},
   "outputs": [],
   "source": [
    "import pyodbc\n",
    "import json\n",
    "from tqdm import tqdm_notebook\n",
    "import xlrd\n",
    "from xlwt import Workbook, Formula"
   ]
  },
  {
   "cell_type": "code",
   "execution_count": 32,
   "metadata": {},
   "outputs": [],
   "source": [
    "#Creating the connection (local)\n",
    "conn = pyodbc.connect('Driver={SQL Server};'\n",
    "                      'Server=localhost\\SQLEXPRESS;'\n",
    "                      'Database=pollution;'\n",
    "                      'Trusted_Connection=yes;')"
   ]
  },
  {
   "cell_type": "code",
   "execution_count": 33,
   "metadata": {},
   "outputs": [],
   "source": [
    "#This function insert into an Excel sheet the result of a request\n",
    "#Input : the request and the name of the Excel sheet\n",
    "#Output : /\n",
    "def insert_excel(request, name_sheet):\n",
    "    sheet = workbook.add_sheet(name_sheet)\n",
    "    select_request = conn.cursor()\n",
    "    select_request.execute(request)\n",
    "    result = []\n",
    "    for line in select_request:\n",
    "        result.append(line)\n",
    "    n = len(result[0])\n",
    "    for j in range(n):\n",
    "        for i in range(len(result)):\n",
    "            sheet.write(i, j, result[i][j])"
   ]
  },
  {
   "cell_type": "code",
   "execution_count": 34,
   "metadata": {},
   "outputs": [],
   "source": [
    "#Names of sheet give in Excel\n",
    "name_sheets = ['req1', 'req2', 'req3', 'req4', 'req5', \\\n",
    "               'req6', 'req7', 'req8', 'req9', 'req10', \\\n",
    "               'req11', 'req12', 'req13', 'req14', 'req15', \\\n",
    "               'req16']"
   ]
  },
  {
   "cell_type": "code",
   "execution_count": 37,
   "metadata": {},
   "outputs": [],
   "source": [
    "#This list contain all ours requests\n",
    "list_request = [\"Select TOP 20 label_word, sum(tf) \\\n",
    "                from belong b, word w \\\n",
    "                where w.id_word = b.id_word \\\n",
    "                and id_article <> 542 \\\n",
    "                group by label_word \\\n",
    "                order by 2 desc\", \\\n",
    "               \"Select TOP 20 label_word, sum(tf), id_article \\\n",
    "                from belong b, word w \\\n",
    "                where w.id_word = b.id_word \\\n",
    "                and id_article <> 542 \\\n",
    "                and tf between 5 and 30 \\\n",
    "                group by label_word, id_article \\\n",
    "                order by 2 desc\", \\\n",
    "               \"select TOP 20 sum(tf), label_word, id_article \\\n",
    "                from belong b, word w \\\n",
    "                where b.id_word = w.id_word \\\n",
    "                and id_article <> 542 \\\n",
    "                and b.is_country = 1 \\\n",
    "                group by label_word, id_article \\\n",
    "                order by 1 desc\", \\\n",
    "               \"select TOP 20 sum(tf), label_word, id_newspaper \\\n",
    "                from belong b, word w, article a \\\n",
    "                where b.id_word = w.id_word \\\n",
    "                and a.id_article = b.id_article \\\n",
    "                and b.id_article <> 542 \\\n",
    "                group by label_word, id_newspaper \\\n",
    "                order by 1 desc\", \\\n",
    "               \"select TOP 20 sum(tf), label_word, publication_date \\\n",
    "                from belong b, word w, article a \\\n",
    "                where b.id_word = w.id_word \\\n",
    "                and a.id_article = b.id_article \\\n",
    "                and b.id_article <> 542 \\\n",
    "                group by label_word, publication_date \\\n",
    "                order by 1 desc\", \\\n",
    "               \"select TOP 20 sum(tf), label_word, left(publication_date,4) \\\n",
    "                from belong b, word w, article a \\\n",
    "                where b.id_word = w.id_word \\\n",
    "                and a.id_article = b.id_article \\\n",
    "                and b.id_article <> 542 \\\n",
    "                and b.is_country = 1 \\\n",
    "                group by label_word, left(publication_date,4) \\\n",
    "                order by 1 desc\", \\\n",
    "               \"select TOP 50 count(label_word), id_article \\\n",
    "                from belong b, word w \\\n",
    "                where b.id_word = w.id_word \\\n",
    "                and id_article <> 542 \\\n",
    "                group by id_article \\\n",
    "                order by 1 desc\", \\\n",
    "               \"select TOP 20 label_word, id_article, tf \\\n",
    "                from belong b, word w \\\n",
    "                where b.id_word = w.id_word \\\n",
    "                and id_article <> 542 \\\n",
    "                and label_word in ('ocean', 'plastiques', 'plastique', 'mer', 'dechets', 'dechet', 'eau', 'pollution', \\\n",
    "                'microplastique') \\\n",
    "                order by 3 desc\", \\\n",
    "               \"select distinct TOP 20 label_word, left(publication_date, 7) \\\n",
    "                from belong b, word w, article a \\\n",
    "                where b.id_word = w.id_word \\\n",
    "                and b.id_article = a.id_article \\\n",
    "                and b.id_article <> 542 \\\n",
    "                and is_country = 1 \\\n",
    "                order by 2 desc \" ,\\\n",
    "               \"select TOP 10 count(distinct label_word), left(publication_date, 7) \\\n",
    "                from belong b, word w, article a \\\n",
    "                where b.id_word = w.id_word \\\n",
    "                and b.id_article = a.id_article \\\n",
    "                and b.id_article <> 542 \\\n",
    "                and is_country = 1 \\\n",
    "                group by left(publication_date, 7) \\\n",
    "                order by 1 desc\", \\\n",
    "               \"Select TOP 8 count(b.id_word), label_word \\\n",
    "                from belong b, word w \\\n",
    "                where w.id_word = b.id_word \\\n",
    "                and label_word not in ('ete', 'ans') \\\n",
    "                and b.is_description = 1 \\\n",
    "                group by label_word \\\n",
    "                order by 1 desc\", \\\n",
    "               \"Select TOP 8 count(b.id_word), label_word \\\n",
    "                from belong b, word w \\\n",
    "                where w.id_word = b.id_word \\\n",
    "                and label_word not in ('ete', 'ans') \\\n",
    "                and b.is_title = 1 \\\n",
    "                group by label_word \\\n",
    "                order by 1 desc\", \\\n",
    "               \"Select TOP 8 count(b.id_word), label_word \\\n",
    "                from belong b, word w \\\n",
    "                where w.id_word = b.id_word \\\n",
    "                and label_word not in ('ete', 'ans') \\\n",
    "                and b.is_title = 1 \\\n",
    "                and b.is_description = 1 \\\n",
    "                group by label_word \\\n",
    "                order by 1 desc\"] "
   ]
  },
  {
   "cell_type": "code",
   "execution_count": 38,
   "metadata": {},
   "outputs": [],
   "source": [
    "#Insert into excel\n",
    "workbook = Workbook()\n",
    "for i in range(len(list_request)):\n",
    "    request = list_request[i]\n",
    "    name_sheet = name_sheets[i]\n",
    "    insert_excel(request, name_sheet)\n",
    "workbook.save(\"../database/all_result_request.xls\")"
   ]
  },
  {
   "cell_type": "markdown",
   "metadata": {},
   "source": [
    "# <center> FIN </center>"
   ]
  }
 ],
 "metadata": {
  "kernelspec": {
   "display_name": "Python 3",
   "language": "python",
   "name": "python3"
  },
  "language_info": {
   "codemirror_mode": {
    "name": "ipython",
    "version": 3
   },
   "file_extension": ".py",
   "mimetype": "text/x-python",
   "name": "python",
   "nbconvert_exporter": "python",
   "pygments_lexer": "ipython3",
   "version": "3.6.5"
  }
 },
 "nbformat": 4,
 "nbformat_minor": 2
}
