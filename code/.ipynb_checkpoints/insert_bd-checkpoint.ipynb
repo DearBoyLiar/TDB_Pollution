{
 "cells": [
  {
   "cell_type": "code",
   "execution_count": 1,
   "metadata": {},
   "outputs": [],
   "source": [
    "import pyodbc\n",
    "import json\n",
    "from tqdm import tqdm_notebook"
   ]
  },
  {
   "cell_type": "code",
   "execution_count": 2,
   "metadata": {},
   "outputs": [],
   "source": [
    "#Creating the connection (local)\n",
    "conn = pyodbc.connect('Driver={SQL Server};'\n",
    "                      'Server=localhost\\SQLEXPRESS;'\n",
    "                      'Database=pollution;'\n",
    "                      'Trusted_Connection=yes;')"
   ]
  },
  {
   "cell_type": "code",
   "execution_count": 3,
   "metadata": {},
   "outputs": [],
   "source": [
    "\"\"\"\n",
    "This fonction inserts in bd elements of a json file\n",
    "input : file recovery path\n",
    "output: / \n",
    "\"\"\"\n",
    "\n",
    "def insert_bd(path):\n",
    "    #file reading\n",
    "    with open(path, 'r') as f:\n",
    "        datas = json.load(f)\n",
    "    \n",
    "    conn.commit()\n",
    "    #Browse all articles\n",
    "    for article in tqdm_notebook(datas.keys()):\n",
    "        #Retrieving article informations\n",
    "        author = datas[article]['author'].replace(\"'\", \"\")\n",
    "        link = datas[article]['link']\n",
    "        newspaper = datas[article]['newspaper'] \n",
    "        publication_date = datas[article]['publication_date']\n",
    "        words = datas[article]['words'] \n",
    "        \n",
    "        #Insertion in Newspapers\n",
    "        insert_newspaper = conn.cursor()\n",
    "        insert_newspaper.execute(\"exec InsertNewspaper @name_newspaper ='\" + str(newspaper) +\"';\")   \n",
    "        conn.commit()\n",
    "        \n",
    "        #Retrieving the id of the inserted newspaper\n",
    "        select_newspaper = conn.cursor()\n",
    "        select_newspaper.execute(\"SELECT id_newspaper FROM newspaper WHERE name_newspaper = '\" + str(newspaper) + \"';\")\n",
    "        for id_new in select_newspaper:\n",
    "            #Insertion in Articles\n",
    "            insert_article = conn.cursor()\n",
    "            insert_article.execute(\"exec InsertArticles @link_article = '\" + str(link) + \"', @publication_date = '\" \\\n",
    "                                   + str(publication_date) + \"', @author = '\" + str(author) + \"', @id_newspaper = \" \\\n",
    "                                   + str(id_new[0]) + \";\")\n",
    "        conn.commit()\n",
    "        \n",
    "        #Browse all words\n",
    "        for word in words.keys():\n",
    "            #We remove the quotation marks\n",
    "            name_word = word.replace(\"'\", \"\")\n",
    "            \n",
    "            #Retrieving word informations\n",
    "            pos_tag = words[word]['pos_tag']\n",
    "            tf = words[word]['tf']\n",
    "            is_title = words[word]['is_title']\n",
    "            is_description = words[word]['is_description']\n",
    "            is_country = words[word]['is_country']\n",
    "            \n",
    "            #Retrieving the id of the inserted article\n",
    "            select_article = conn.cursor()\n",
    "            select_article.execute(\"SELECT id_article FROM article WHERE link_article = '\" + str(link) + \"';\")\n",
    "            for j in select_article:\n",
    "                id_article = j\n",
    "            \n",
    "            #Insertion in Words\n",
    "            insert_word = conn.cursor()\n",
    "            insert_word.execute(\"exec InsertWord @label_word = '\" + str(name_word) + \"', @pos_tag = '\" + str(pos_tag) + \"';\")        \n",
    "            conn.commit()\n",
    "            \n",
    "            #Retrieving the id of the inserted word\n",
    "            select_word = conn.cursor()\n",
    "            select_word.execute(\"SELECT id_word FROM word WHERE label_word = '\" + str(name_word) + \"';\")\n",
    "            for id_word in select_word:\n",
    "                #Insertion in Belong\n",
    "                insert_belong = conn.cursor()\n",
    "                insert_belong.execute(\"exec InsertBelong @id_article = %d, @id_word = %d, @tf = %d, @is_description = %d, @is_title = %d, @is_country = %d ;\" \\\n",
    "                                      %(int(str(id_article[0])), int(str(id_word[0])), int(tf), int(is_description), int(is_title), int(is_country)))\n",
    "            conn.commit()\n",
    "    "
   ]
  },
  {
   "cell_type": "markdown",
   "metadata": {},
   "source": [
    "7eme continent"
   ]
  },
  {
   "cell_type": "code",
   "execution_count": 4,
   "metadata": {},
   "outputs": [
    {
     "data": {
      "application/vnd.jupyter.widget-view+json": {
       "model_id": "4a36569a5c0c42c38835baa1e532e0f3",
       "version_major": 2,
       "version_minor": 0
      },
      "text/plain": [
       "HBox(children=(IntProgress(value=0, max=135), HTML(value='')))"
      ]
     },
     "metadata": {},
     "output_type": "display_data"
    },
    {
     "name": "stdout",
     "output_type": "stream",
     "text": [
      "\n"
     ]
    }
   ],
   "source": [
    "insert_bd('../data/articles/clean_art_7econ.json')"
   ]
  },
  {
   "cell_type": "markdown",
   "metadata": {},
   "source": [
    "Journal de l'environnement"
   ]
  },
  {
   "cell_type": "code",
   "execution_count": 5,
   "metadata": {},
   "outputs": [
    {
     "data": {
      "application/vnd.jupyter.widget-view+json": {
       "model_id": "d745bff726314d0baa1665e03fcc7ed0",
       "version_major": 2,
       "version_minor": 0
      },
      "text/plain": [
       "HBox(children=(IntProgress(value=0, max=284), HTML(value='')))"
      ]
     },
     "metadata": {},
     "output_type": "display_data"
    },
    {
     "name": "stdout",
     "output_type": "stream",
     "text": [
      "\n"
     ]
    }
   ],
   "source": [
    "insert_bd('../data/articles/clean_art_jdle.json')"
   ]
  },
  {
   "cell_type": "markdown",
   "metadata": {},
   "source": [
    "Le Monde"
   ]
  },
  {
   "cell_type": "code",
   "execution_count": 6,
   "metadata": {},
   "outputs": [
    {
     "data": {
      "application/vnd.jupyter.widget-view+json": {
       "model_id": "b95b1b0a03734545af7addeebd82ca34",
       "version_major": 2,
       "version_minor": 0
      },
      "text/plain": [
       "HBox(children=(IntProgress(value=0, max=541), HTML(value='')))"
      ]
     },
     "metadata": {},
     "output_type": "display_data"
    },
    {
     "name": "stdout",
     "output_type": "stream",
     "text": [
      "\n"
     ]
    }
   ],
   "source": [
    "insert_bd('../data/articles/clean_art_lmde.json')"
   ]
  },
  {
   "cell_type": "markdown",
   "metadata": {},
   "source": [
    "# <center>End</center>"
   ]
  }
 ],
 "metadata": {
  "kernelspec": {
   "display_name": "Python 3",
   "language": "python",
   "name": "python3"
  },
  "language_info": {
   "codemirror_mode": {
    "name": "ipython",
    "version": 3
   },
   "file_extension": ".py",
   "mimetype": "text/x-python",
   "name": "python",
   "nbconvert_exporter": "python",
   "pygments_lexer": "ipython3",
   "version": "3.6.5"
  }
 },
 "nbformat": 4,
 "nbformat_minor": 2
}
