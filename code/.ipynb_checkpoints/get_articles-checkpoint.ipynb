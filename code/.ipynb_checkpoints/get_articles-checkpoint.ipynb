{
 "cells": [
  {
   "cell_type": "code",
   "execution_count": null,
   "metadata": {},
   "outputs": [],
   "source": [
    "import bs4\n",
    "import requests\n",
    "import pandas as pd\n",
    "from tqdm import tqdm"
   ]
  },
  {
   "cell_type": "code",
   "execution_count": null,
   "metadata": {},
   "outputs": [],
   "source": [
    "def parse_soup(url):\n",
    "    \"\"\"\n",
    "        The function parse the page with beautifulsoup\n",
    "        @param :  string containing the url of the rss feed\n",
    "        @return : object containing the parse page\n",
    "    \"\"\"\n",
    "    req = requests.get(url)\n",
    "    data = req.text\n",
    "    soup = bs4.BeautifulSoup(data, \"lxml\")\n",
    "    return(soup)\n",
    "\n",
    "def create_csv(content,name):\n",
    "    \"\"\"\n",
    "        Transform a list into a csv file\n",
    "    \"\"\"\n",
    "    pd.DataFrame(content).to_csv(name,sep=';')"
   ]
  },
  {
   "cell_type": "code",
   "execution_count": null,
   "metadata": {
    "scrolled": false
   },
   "outputs": [],
   "source": [
    "# Create a list of articles url\n",
    "def get_url_articles_jdle(soup_link_website,website_link,nb_max_pages):\n",
    "    \"\"\"\n",
    "        Based on the links passed in parameter, we get the url articles of the website\n",
    "        @return :  A list of links of articles\n",
    "    \"\"\"\n",
    "    link_articles = []\n",
    "    key_words = ['-eau-', '-eaux-','-ocean-','-oceans-','-mer-','pacifique','pollution','continent']\n",
    "    \n",
    "    # Get all pages of the website\n",
    "    for i in range(1,nb_max_pages):\n",
    "        try:\n",
    "            # Get all articles in a page\n",
    "            soup = parse_soup(soup_link_website + str(i))\n",
    "            \n",
    "            #Select only the link of the articles\n",
    "            for article_link in soup.find_all('a'):\n",
    "                # and any(word in bal.get(\"href\").lower() for word in ['plastique'])\n",
    "                if '#' not in article_link.get(\"href\") and 'article' in  article_link.get(\"href\"):\n",
    "                    new_article = website_link + article_link.get(\"href\")\n",
    "                    print(new_article)\n",
    "                    link_articles.append(new_article)\n",
    "        except Exception as e:\n",
    "            print(e)\n",
    "    return list(set(link_articles))\n",
    "\n",
    "themes = [\"air\",\"eau\",\"dechets\",\"climat\",\"risques-sante\",\"sites-sols\",\"energie\",\"politque-sante\"]\n",
    "nb_pages_by_themes = [200,370,260,180,500,470,500,500]\n",
    "website_link= \"http://www.journaldelenvironnement.net\"\n",
    "path = '../data/links/url_articles_jdle.csv'\n",
    "\n",
    "links_result = []\n",
    "for i,theme in tqdm(enumerate(themes)):\n",
    "    links_result = links_result + get_url_articles_jdle(website_link+'/'+theme,website_link,nb_pages_by_themes[i])"
   ]
  },
  {
   "cell_type": "code",
   "execution_count": null,
   "metadata": {},
   "outputs": [],
   "source": [
    "create_csv(list(set(links_result)),path)\n",
    "pd.read_csv('../data/links/url_articles_jdle.csv',sep=';').shape"
   ]
  },
  {
   "cell_type": "code",
   "execution_count": null,
   "metadata": {},
   "outputs": [],
   "source": []
  }
 ],
 "metadata": {
  "kernelspec": {
   "display_name": "Python 3",
   "language": "python",
   "name": "python3"
  },
  "language_info": {
   "codemirror_mode": {
    "name": "ipython",
    "version": 3
   },
   "file_extension": ".py",
   "mimetype": "text/x-python",
   "name": "python",
   "nbconvert_exporter": "python",
   "pygments_lexer": "ipython3",
   "version": "3.7.0"
  }
 },
 "nbformat": 4,
 "nbformat_minor": 2
}
