{
 "cells": [
  {
   "cell_type": "code",
   "execution_count": 3,
   "metadata": {},
   "outputs": [],
   "source": [
    "import bs4\n",
    "import requests\n",
    "import pandas as pd"
   ]
  },
  {
   "cell_type": "code",
   "execution_count": 4,
   "metadata": {},
   "outputs": [],
   "source": [
    "def get_url_articles(link_website,nb_max_pages=260):\n",
    "    \"\"\"\n",
    "        Based on the links passed in parameter, we get the url articles of the website\n",
    "        @return :  A list of links of articles\n",
    "    \"\"\"\n",
    "    link_articles = []\n",
    "    \n",
    "    # Get all pages of the website\n",
    "    for i in range(1,nb_max_pages):\n",
    "        try:\n",
    "            # Get all articles in a page\n",
    "            soup = parse_soup(link_website + str(i))\n",
    "        \n",
    "            #Select only the link of the articles\n",
    "            for bal in soup.find_all('a'):\n",
    "                if bal != None and 'article' in bal.get(\"href\"):\n",
    "                    new_article = \"http://www.journaldelenvironnement.net\" + bal.get(\"href\")\n",
    "                    link_articles.append(new_article)\n",
    "        except Exception as e:\n",
    "            pass\n",
    "    return list(set(link_articles))\n",
    "\n",
    "def parse_soup(url):\n",
    "    \"\"\"\n",
    "        The function parse the page with beautifulsoup\n",
    "        @param :  string containing the url of the rss feed\n",
    "        @return : object containing the parse page\n",
    "    \"\"\"\n",
    "    req = requests.get(url)\n",
    "    data = req.text\n",
    "    soup = bs4.BeautifulSoup(data, \"lxml\")\n",
    "    return(soup)\n",
    "\n",
    "def create_csv(content,name):\n",
    "    \"\"\"\n",
    "        Transform a list into a csv file\n",
    "    \"\"\"\n",
    "    pd.DataFrame(content).to_csv(name,sep=';')"
   ]
  },
  {
   "cell_type": "code",
   "execution_count": 5,
   "metadata": {},
   "outputs": [],
   "source": [
    "# Create a list of articles url\n",
    "create_csv(get_url_articles(\"http://www.journaldelenvironnement.net/dechets/\"),'../data/links/url_articles_jdle.csv')"
   ]
  },
  {
   "cell_type": "code",
   "execution_count": 6,
   "metadata": {},
   "outputs": [
    {
     "data": {
      "text/plain": [
       "(3107, 2)"
      ]
     },
     "execution_count": 6,
     "metadata": {},
     "output_type": "execute_result"
    }
   ],
   "source": [
    "# Get the number of articles\n",
    "pd.read_csv('../data/links/url_articles_jdle.csv',sep=';').shape"
   ]
  },
  {
   "cell_type": "code",
   "execution_count": null,
   "metadata": {},
   "outputs": [],
   "source": []
  }
 ],
 "metadata": {
  "kernelspec": {
   "display_name": "Python 3",
   "language": "python",
   "name": "python3"
  },
  "language_info": {
   "codemirror_mode": {
    "name": "ipython",
    "version": 3
   },
   "file_extension": ".py",
   "mimetype": "text/x-python",
   "name": "python",
   "nbconvert_exporter": "python",
   "pygments_lexer": "ipython3",
   "version": "3.7.0"
  }
 },
 "nbformat": 4,
 "nbformat_minor": 2
}
