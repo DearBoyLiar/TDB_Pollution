{
 "cells": [
  {
   "cell_type": "code",
   "execution_count": 27,
   "metadata": {},
   "outputs": [],
   "source": [
    "import pyodbc\n",
    "import json\n",
    "from tqdm import tqdm_notebook"
   ]
  },
  {
   "cell_type": "code",
   "execution_count": 28,
   "metadata": {},
   "outputs": [],
   "source": [
    "#Creating the connection (local)\n",
    "conn = pyodbc.connect('Driver={SQL Server};'\n",
    "                      'Server=localhost\\SQLEXPRESS;'\n",
    "                      'Database=pollution;'\n",
    "                      'Trusted_Connection=yes;')"
   ]
  },
  {
   "cell_type": "code",
   "execution_count": 45,
   "metadata": {},
   "outputs": [],
   "source": [
    "\"\"\"\n",
    "This fonction inserts in bd elements of a json file\n",
    "input : file recovery path\n",
    "output: / \n",
    "\"\"\"\n",
    "\n",
    "def insert_bd(path):\n",
    "    #file reading\n",
    "    with open(path, 'r') as f:\n",
    "        datas = json.load(f)\n",
    "    \n",
    "    conn.commit()\n",
    "    #Browse all articles\n",
    "    for article in tqdm_notebook(datas.keys()):\n",
    "        #Retrieving article informations\n",
    "        author = datas[article]['authors'].replace(\"'\", \"\")\n",
    "        link = datas[article]['link']\n",
    "        newspaper = datas[article]['newspaper'] \n",
    "        publication_date = datas[article]['publication_date']\n",
    "        words = datas[article]['words'] \n",
    "        \n",
    "        #Insertion in Newspapers\n",
    "        insert_newspaper = conn.cursor()\n",
    "        insert_newspaper.execute(\"exec InsertNewspaper @name_newspaper ='\" + str(newspaper) +\"';\")   \n",
    "        conn.commit()\n",
    "        \n",
    "        #Retrieving the id of the inserted newspaper\n",
    "        select_newspaper = conn.cursor()\n",
    "        select_newspaper.execute(\"SELECT id_newspaper FROM NEWSPAPERS WHERE NAME_NEWSPAPER = '\" + str(newspaper) + \"';\")\n",
    "        for id_news in select_newspaper:\n",
    "            #Insertion in Articles\n",
    "            insert_article = conn.cursor()\n",
    "            insert_article.execute(\"exec InsertArticles @link_article = '\" + str(link) + \"', @publication_date = '\" \\\n",
    "                                   + str(publication_date) + \"', @authors = '\" + str(author) + \"', @id_newspaper = \" \\\n",
    "                                   + str(id_news[0]) + \";\")\n",
    "        conn.commit()\n",
    "        \n",
    "        #Browse all words\n",
    "        for word in words.keys():\n",
    "            #We remove the quotation marks\n",
    "            name_word = word.replace(\"'\", \"\")\n",
    "            \n",
    "            #Retrieving word informations\n",
    "            pos_tag = words[word]['pos_tag']\n",
    "            tf = words[word]['tf']\n",
    "            is_title = words[word]['is_title']\n",
    "            is_description = words[word]['is_description']\n",
    "            \n",
    "            #Retrieving the id of the inserted article\n",
    "            select_article = conn.cursor()\n",
    "            select_article.execute(\"SELECT id_article FROM ARTICLES WHERE LINK_ARTICLE = '\" + str(link) + \"';\")\n",
    "            for j in select_article:\n",
    "                id_article = j\n",
    "            \n",
    "            #Insertion in Words\n",
    "            insert_word = conn.cursor()\n",
    "            insert_word.execute(\"exec InsertWords @word = '\" + str(name_word) + \"', @pos_tag = '\" + str(pos_tag) + \"';\")        \n",
    "            conn.commit()\n",
    "            \n",
    "            #Retrieving the id of the inserted word\n",
    "            select_word = conn.cursor()\n",
    "            select_word.execute(\"SELECT id_word FROM WORDS WHERE WORD = '\" + str(name_word) + \"';\")\n",
    "            for id_word in select_word:\n",
    "                #Insertion in Belong\n",
    "                insert_belong = conn.cursor()\n",
    "                insert_belong.execute(\"exec InsertBelong @id_article = %d, @id_word = %d, @tf = %d, @is_description = %d, @is_title = %d ;\" \\\n",
    "                                      %(int(str(id_article[0])), int(str(id_word[0])), int(tf), int(is_description), int(is_title)))\n",
    "            conn.commit()\n",
    "    "
   ]
  },
  {
   "cell_type": "markdown",
   "metadata": {},
   "source": [
    "7eme continent"
   ]
  },
  {
   "cell_type": "code",
   "execution_count": 46,
   "metadata": {},
   "outputs": [
    {
     "data": {
      "application/vnd.jupyter.widget-view+json": {
       "model_id": "79fb7ec1434b4d2bb67c199b3dc66697",
       "version_major": 2,
       "version_minor": 0
      },
      "text/plain": [
       "HBox(children=(IntProgress(value=0, max=135), HTML(value='')))"
      ]
     },
     "metadata": {},
     "output_type": "display_data"
    }
   ],
   "source": [
    "insert_bd('../data/articles/clean_art_7econ.json')"
   ]
  },
  {
   "cell_type": "markdown",
   "metadata": {},
   "source": [
    "Journal de l'environnement"
   ]
  },
  {
   "cell_type": "code",
   "execution_count": null,
   "metadata": {},
   "outputs": [
    {
     "data": {
      "application/vnd.jupyter.widget-view+json": {
       "model_id": "acd9a507718244fdacd64328d3253fff",
       "version_major": 2,
       "version_minor": 0
      },
      "text/plain": [
       "HBox(children=(IntProgress(value=0, max=284), HTML(value='')))"
      ]
     },
     "metadata": {},
     "output_type": "display_data"
    }
   ],
   "source": [
    "insert_bd('../data/articles/clean_art_jdle.json')"
   ]
  },
  {
   "cell_type": "markdown",
   "metadata": {},
   "source": [
    "Le Monde"
   ]
  },
  {
   "cell_type": "code",
   "execution_count": null,
   "metadata": {},
   "outputs": [],
   "source": [
    "insert_bd('../data/articles/clean_art_lmde.json')"
   ]
  },
  {
   "cell_type": "code",
   "execution_count": null,
   "metadata": {},
   "outputs": [],
   "source": []
  },
  {
   "cell_type": "code",
   "execution_count": null,
   "metadata": {},
   "outputs": [],
   "source": []
  },
  {
   "cell_type": "code",
   "execution_count": 174,
   "metadata": {},
   "outputs": [],
   "source": [
    "with open('../data/articles/clean_art_7econ.json', 'r') as f:\n",
    "    datas = json.load(f)\n"
   ]
  },
  {
   "cell_type": "code",
   "execution_count": 175,
   "metadata": {},
   "outputs": [
    {
     "data": {
      "application/vnd.jupyter.widget-view+json": {
       "model_id": "b303e62807f44233999fce98bb2dfa6c",
       "version_major": 2,
       "version_minor": 0
      },
      "text/plain": [
       "HBox(children=(IntProgress(value=0, max=135), HTML(value='')))"
      ]
     },
     "metadata": {},
     "output_type": "display_data"
    }
   ],
   "source": [
    "for article in tqdm_notebook(datas.keys()):\n",
    "    author = datas[article]['authors'].replace(\"'\", \"\")\n",
    "    link = datas[article]['link']\n",
    "    newspaper = datas[article]['newspaper'] \n",
    "    publication_date = datas[article]['publication_date']\n",
    "    words = datas[article]['words'] \n",
    "    insert_newspaper = conn.cursor()\n",
    "    insert_newspaper.execute(\"exec InsertNewspaper @name_newspaper ='\" + str(newspaper) +\"';\")   \n",
    "    conn.commit()\n",
    "    select_newspaper = conn.cursor()\n",
    "    select_newspaper.execute(\"SELECT id_newspaper FROM NEWSPAPERS WHERE NAME_NEWSPAPER = '\" + str(newspaper) + \"';\")\n",
    "    for id_news in select_newspaper:\n",
    "        id_newspaper = id_news\n",
    "    insert_article = conn.cursor()\n",
    "    insert_article.execute(\"exec InsertArticles @link_article = '\" + str(link) + \"', @publication_date = '\" \\\n",
    "                           + str(publication_date) + \"', @authors = '\" + str(author) + \"', @id_newspaper = \" \\\n",
    "                           + str(id_newspaper[0]) + \";\")\n",
    "    conn.commit()\n",
    "    for word in words.keys():\n",
    "        name_word = word.replace(\"'\", \"\")\n",
    "        pos_tag = words[word]['pos_tag']\n",
    "        tf = words[word]['tf']\n",
    "        is_title = words[word]['is_title']\n",
    "        is_description = words[word]['is_description']\n",
    "        select_article = conn.cursor()\n",
    "        select_article.execute(\"SELECT id_article FROM ARTICLES WHERE LINK_ARTICLE = '\" + str(link) + \"';\")\n",
    "        for id_article in select_article:\n",
    "            article_id = id_article\n",
    "        insert_word = conn.cursor()\n",
    "        insert_word.execute(\"exec InsertWords @word = '\" + str(name_word) + \"', @pos_tag = '\" + str(pos_tag) + \"';\")        \n",
    "        conn.commit()\n",
    "        select_word = conn.cursor()\n",
    "        select_word.execute(\"SELECT id_word FROM WORDS WHERE WORD = '\" + str(name_word) + \"';\")\n",
    "        for id_word in select_word:\n",
    "            word_id = id_word\n",
    "        insert_belong = conn.cursor()\n",
    "        insert_belong.execute(\"exec InsertBelong @id_article = %d, @id_word = %d, @tf = %d, @is_description = %d, @is_title = %d ;\" \\\n",
    "                              %(int(str(article_id[0])), int(str(word_id[0])), int(tf), int(is_description), int(is_title)))\n",
    "        \n",
    "        conn.commit()\n",
    "    "
   ]
  },
  {
   "cell_type": "code",
   "execution_count": 176,
   "metadata": {},
   "outputs": [],
   "source": [
    "with open('../data/articles/clean_art_jdle.json', 'r') as f:\n",
    "    datas = json.load(f)"
   ]
  },
  {
   "cell_type": "code",
   "execution_count": 177,
   "metadata": {},
   "outputs": [
    {
     "data": {
      "application/vnd.jupyter.widget-view+json": {
       "model_id": "9c38dacf1bcd435fbe8539fbf217b774",
       "version_major": 2,
       "version_minor": 0
      },
      "text/plain": [
       "HBox(children=(IntProgress(value=0, max=284), HTML(value='')))"
      ]
     },
     "metadata": {},
     "output_type": "display_data"
    }
   ],
   "source": [
    "for article in tqdm_notebook(datas.keys()):\n",
    "    author = datas[article]['authors'].replace(\"'\", \"\")\n",
    "    link = datas[article]['link']\n",
    "    newspaper = datas[article]['newspaper'] \n",
    "    publication_date = datas[article]['publication_date']\n",
    "    words = datas[article]['words'] \n",
    "    insert_newspaper = conn.cursor()\n",
    "    insert_newspaper.execute(\"exec InsertNewspaper @name_newspaper ='\" + str(newspaper) +\"';\")   \n",
    "    conn.commit()\n",
    "    select_newspaper = conn.cursor()\n",
    "    select_newspaper.execute(\"SELECT id_newspaper FROM NEWSPAPERS WHERE NAME_NEWSPAPER = '\" + str(newspaper) + \"';\")\n",
    "    for id_news in select_newspaper:\n",
    "        id_newspaper = id_news\n",
    "    insert_article = conn.cursor()\n",
    "    insert_article.execute(\"exec InsertArticles @link_article = '\" + str(link) + \"', @publication_date = '\" \\\n",
    "                           + str(publication_date) + \"', @authors = '\" + str(author) + \"', @id_newspaper = \" \\\n",
    "                           + str(id_newspaper[0]) + \";\")\n",
    "    conn.commit()\n",
    "    for word in words.keys():\n",
    "        name_word = word.replace(\"'\", \"\")\n",
    "        pos_tag = words[word]['pos_tag']\n",
    "        tf = words[word]['tf']\n",
    "        is_title = words[word]['is_title']\n",
    "        is_description = words[word]['is_description']\n",
    "        select_article = conn.cursor()\n",
    "        select_article.execute(\"SELECT id_article FROM ARTICLES WHERE LINK_ARTICLE = '\" + str(link) + \"';\")\n",
    "        for id_article in select_article:\n",
    "            article_id = id_article\n",
    "        insert_word = conn.cursor()\n",
    "        insert_word.execute(\"exec InsertWords @word = '\" + str(name_word) + \"', @pos_tag = '\" + str(pos_tag) + \"';\")        \n",
    "        conn.commit()\n",
    "        select_word = conn.cursor()\n",
    "        select_word.execute(\"SELECT id_word FROM WORDS WHERE WORD = '\" + str(name_word) + \"';\")\n",
    "        for id_word in select_word:\n",
    "            word_id = id_word\n",
    "        insert_belong = conn.cursor()\n",
    "        insert_belong.execute(\"exec InsertBelong @id_article = %d, @id_word = %d, @tf = %d, @is_description = %d, @is_title = %d ;\" \\\n",
    "                              %(int(str(article_id[0])), int(str(word_id[0])), int(tf), int(is_description), int(is_title)))\n",
    "        \n",
    "        conn.commit()\n",
    "    "
   ]
  },
  {
   "cell_type": "markdown",
   "metadata": {},
   "source": [
    "Le monde"
   ]
  },
  {
   "cell_type": "code",
   "execution_count": 162,
   "metadata": {},
   "outputs": [],
   "source": [
    "with open('../data/articles/clean_art_lmde.json', 'r') as f:\n",
    "    datas = json.load(f)"
   ]
  },
  {
   "cell_type": "code",
   "execution_count": 173,
   "metadata": {},
   "outputs": [
    {
     "data": {
      "application/vnd.jupyter.widget-view+json": {
       "model_id": "748a25f468dc4a7780f83cb3b23a908a",
       "version_major": 2,
       "version_minor": 0
      },
      "text/plain": [
       "HBox(children=(IntProgress(value=0, max=541), HTML(value='')))"
      ]
     },
     "metadata": {},
     "output_type": "display_data"
    }
   ],
   "source": [
    "for article in tqdm_notebook(datas.keys()):\n",
    "    author = datas[article]['authors'].replace(\"'\", \"\")\n",
    "    link = datas[article]['link']\n",
    "    newspaper = datas[article]['newspaper'] \n",
    "    publication_date = datas[article]['publication_date']\n",
    "    words = datas[article]['words'] \n",
    "    insert_newspaper = conn.cursor()\n",
    "    insert_newspaper.execute(\"exec InsertNewspaper @name_newspaper ='\" + str(newspaper) +\"';\")   \n",
    "    conn.commit()\n",
    "    select_newspaper = conn.cursor()\n",
    "    select_newspaper.execute(\"SELECT id_newspaper FROM NEWSPAPERS WHERE NAME_NEWSPAPER = '\" + str(newspaper) + \"';\")\n",
    "    for id_news in select_newspaper:\n",
    "        id_newspaper = id_news\n",
    "    insert_article = conn.cursor()\n",
    "    insert_article.execute(\"exec InsertArticles @link_article = '\" + str(link) + \"', @publication_date = '\" \\\n",
    "                           + str(publication_date) + \"', @authors = '\" + str(author) + \"', @id_newspaper = \" \\\n",
    "                           + str(id_newspaper[0]) + \";\")\n",
    "    conn.commit()\n",
    "    for word in words.keys():\n",
    "        name_word = word.replace(\"'\", \"\")\n",
    "        pos_tag = words[word]['pos_tag']\n",
    "        tf = words[word]['tf']\n",
    "        is_title = words[word]['is_title']\n",
    "        is_description = words[word]['is_description']\n",
    "        select_article = conn.cursor()\n",
    "        select_article.execute(\"SELECT id_article FROM ARTICLES WHERE LINK_ARTICLE = '\" + str(link) + \"';\")\n",
    "        for id_article in select_article:\n",
    "            article_id = id_article\n",
    "        insert_word = conn.cursor()\n",
    "        insert_word.execute(\"exec InsertWords @word = '\" + str(name_word) + \"', @pos_tag = '\" + str(pos_tag) + \"';\")        \n",
    "        conn.commit()\n",
    "        select_word = conn.cursor()\n",
    "        select_word.execute(\"SELECT id_word FROM WORDS WHERE WORD = '\" + str(name_word) + \"';\")\n",
    "        for id_word in select_word:\n",
    "            word_id = id_word\n",
    "        insert_belong = conn.cursor()\n",
    "        insert_belong.execute(\"exec InsertBelong @id_article = %d, @id_word = %d, @tf = %d, @is_description = %d, @is_title = %d ;\" \\\n",
    "                              %(int(str(article_id[0])), int(str(word_id[0])), int(tf), int(is_description), int(is_title)))\n",
    "        \n",
    "        conn.commit()\n",
    "    "
   ]
  },
  {
   "cell_type": "code",
   "execution_count": 12,
   "metadata": {},
   "outputs": [
    {
     "data": {
      "text/plain": [
       "<pyodbc.Cursor at 0x2291df42dc8>"
      ]
     },
     "execution_count": 12,
     "metadata": {},
     "output_type": "execute_result"
    }
   ],
   "source": [
    "select_newspaper = conn.cursor()\n",
    "select_newspaper.execute(\"SELECT id_newspaper FROM NEWSPAPERS;\")"
   ]
  },
  {
   "cell_type": "code",
   "execution_count": 16,
   "metadata": {},
   "outputs": [
    {
     "ename": "TypeError",
     "evalue": "'pyodbc.Cursor' object is not subscriptable",
     "output_type": "error",
     "traceback": [
      "\u001b[1;31m---------------------------------------------------------------------------\u001b[0m",
      "\u001b[1;31mTypeError\u001b[0m                                 Traceback (most recent call last)",
      "\u001b[1;32m<ipython-input-16-26ae17f2c867>\u001b[0m in \u001b[0;36m<module>\u001b[1;34m()\u001b[0m\n\u001b[1;32m----> 1\u001b[1;33m \u001b[0mstr\u001b[0m\u001b[1;33m(\u001b[0m\u001b[0mselect_newspaper\u001b[0m\u001b[1;33m[\u001b[0m\u001b[1;36m0\u001b[0m\u001b[1;33m]\u001b[0m\u001b[1;33m)\u001b[0m\u001b[1;33m\u001b[0m\u001b[0m\n\u001b[0m",
      "\u001b[1;31mTypeError\u001b[0m: 'pyodbc.Cursor' object is not subscriptable"
     ]
    }
   ],
   "source": [
    "str(select_newspaper[0])"
   ]
  },
  {
   "cell_type": "code",
   "execution_count": 38,
   "metadata": {},
   "outputs": [],
   "source": [
    "conn.commit()"
   ]
  },
  {
   "cell_type": "code",
   "execution_count": null,
   "metadata": {},
   "outputs": [],
   "source": []
  }
 ],
 "metadata": {
  "kernelspec": {
   "display_name": "Python 3",
   "language": "python",
   "name": "python3"
  },
  "language_info": {
   "codemirror_mode": {
    "name": "ipython",
    "version": 3
   },
   "file_extension": ".py",
   "mimetype": "text/x-python",
   "name": "python",
   "nbconvert_exporter": "python",
   "pygments_lexer": "ipython3",
   "version": "3.6.5"
  }
 },
 "nbformat": 4,
 "nbformat_minor": 2
}
