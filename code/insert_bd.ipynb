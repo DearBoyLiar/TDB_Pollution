{
 "cells": [
  {
   "cell_type": "code",
   "execution_count": 154,
   "metadata": {},
   "outputs": [],
   "source": [
    "import pyodbc\n",
    "import json\n",
    "from tqdm import tqdm_notebook"
   ]
  },
  {
   "cell_type": "code",
   "execution_count": 155,
   "metadata": {},
   "outputs": [],
   "source": [
    "conn = pyodbc.connect('Driver={SQL Server};'\n",
    "                      'Server=localhost\\SQLEXPRESS;'\n",
    "                      'Database=pollution;'\n",
    "                      'Trusted_Connection=yes;')"
   ]
  },
  {
   "cell_type": "markdown",
   "metadata": {},
   "source": [
    "7eme continent"
   ]
  },
  {
   "cell_type": "code",
   "execution_count": 156,
   "metadata": {},
   "outputs": [],
   "source": [
    "with open('../data/articles/clean_art_7econ.json', 'r') as f:\n",
    "    datas = json.load(f)"
   ]
  },
  {
   "cell_type": "code",
   "execution_count": 158,
   "metadata": {},
   "outputs": [
    {
     "data": {
      "application/vnd.jupyter.widget-view+json": {
       "model_id": "36d872c8f846411986074c298a652146",
       "version_major": 2,
       "version_minor": 0
      },
      "text/plain": [
       "HBox(children=(IntProgress(value=0, max=135), HTML(value='')))"
      ]
     },
     "metadata": {},
     "output_type": "display_data"
    },
    {
     "name": "stdout",
     "output_type": "stream",
     "text": [
      "\n"
     ]
    }
   ],
   "source": [
    "for article in tqdm_notebook(datas.keys()):\n",
    "    author = datas[article]['authors'].replace(\"'\", \"\")\n",
    "    link = datas[article]['link']\n",
    "    newspaper = datas[article]['newspaper'] \n",
    "    publication_date = datas[article]['publication_date']\n",
    "    words = datas[article]['words'] \n",
    "    insert_newspaper = conn.cursor()\n",
    "    insert_newspaper.execute(\"exec InsertNewspaper @name_newspaper ='\" + str(newspaper) +\"';\")   \n",
    "    conn.commit()\n",
    "    select_newspaper = conn.cursor()\n",
    "    select_newspaper.execute(\"SELECT id_newspaper FROM NEWSPAPERS WHERE NAME_NEWSPAPER = '\" + str(newspaper) + \"';\")\n",
    "    for id_news in select_newspaper:\n",
    "        id_newspaper = id_news\n",
    "    insert_article = conn.cursor()\n",
    "    insert_article.execute(\"exec InsertArticles @link_article = '\" + str(link) + \"', @publication_date = '\" \\\n",
    "                           + str(publication_date) + \"', @authors = '\" + str(author) + \"', @id_newspaper = \" \\\n",
    "                           + str(id_newspaper[0]) + \";\")\n",
    "    conn.commit()\n",
    "    for word in words.keys():\n",
    "        name_word = word.replace(\"'\", \"\")\n",
    "        pos_tag = words[word]['pos_tag']\n",
    "        tf = words[word]['tf']\n",
    "        is_title = words[word]['is_title']\n",
    "        is_description = words[word]['is_description']\n",
    "        select_article = conn.cursor()\n",
    "        select_article.execute(\"SELECT id_article FROM ARTICLES WHERE LINK_ARTICLE = '\" + str(link) + \"';\")\n",
    "        for id_article in select_article:\n",
    "            article_id = id_article\n",
    "        insert_word = conn.cursor()\n",
    "        insert_word.execute(\"exec InsertWords @word = '\" + str(name_word) + \"', @pos_tag = '\" + str(pos_tag) + \"';\")        \n",
    "        conn.commit()\n",
    "        select_word = conn.cursor()\n",
    "        select_word.execute(\"SELECT id_word FROM WORDS WHERE WORD = '\" + str(name_word) + \"';\")\n",
    "        for id_word in select_word:\n",
    "            word_id = id_word\n",
    "        insert_belong = conn.cursor()\n",
    "        insert_belong.execute(\"exec InsertBelong @id_article = %d, @id_word = %d, @tf = %d, @is_description = %d, @is_title = %d ;\" \\\n",
    "                              %(int(str(article_id[0])), int(str(word_id[0])), int(tf), int(is_description), int(is_title)))\n",
    "        \n",
    "        conn.commit()\n",
    "    "
   ]
  },
  {
   "cell_type": "markdown",
   "metadata": {},
   "source": [
    "Journal de l'environnement"
   ]
  },
  {
   "cell_type": "code",
   "execution_count": 159,
   "metadata": {},
   "outputs": [],
   "source": [
    "with open('../data/articles/clean_art_jdle.json', 'r') as f:\n",
    "    datas = json.load(f)"
   ]
  },
  {
   "cell_type": "code",
   "execution_count": 160,
   "metadata": {},
   "outputs": [
    {
     "data": {
      "application/vnd.jupyter.widget-view+json": {
       "model_id": "063c69527c80451c8958faa84a83d81d",
       "version_major": 2,
       "version_minor": 0
      },
      "text/plain": [
       "HBox(children=(IntProgress(value=0, max=280), HTML(value='')))"
      ]
     },
     "metadata": {},
     "output_type": "display_data"
    },
    {
     "name": "stdout",
     "output_type": "stream",
     "text": [
      "\n"
     ]
    }
   ],
   "source": [
    "for article in tqdm_notebook(datas.keys()):\n",
    "    author = datas[article]['authors'].replace(\"'\", \"\")\n",
    "    link = datas[article]['link']\n",
    "    newspaper = datas[article]['newspaper'] \n",
    "    publication_date = datas[article]['publication_date']\n",
    "    words = datas[article]['words'] \n",
    "    insert_newspaper = conn.cursor()\n",
    "    insert_newspaper.execute(\"exec InsertNewspaper @name_newspaper ='\" + str(newspaper) +\"';\")   \n",
    "    conn.commit()\n",
    "    select_newspaper = conn.cursor()\n",
    "    select_newspaper.execute(\"SELECT id_newspaper FROM NEWSPAPERS WHERE NAME_NEWSPAPER = '\" + str(newspaper) + \"';\")\n",
    "    for id_news in select_newspaper:\n",
    "        id_newspaper = id_news\n",
    "    insert_article = conn.cursor()\n",
    "    insert_article.execute(\"exec InsertArticles @link_article = '\" + str(link) + \"', @publication_date = '\" \\\n",
    "                           + str(publication_date) + \"', @authors = '\" + str(author) + \"', @id_newspaper = \" \\\n",
    "                           + str(id_newspaper[0]) + \";\")\n",
    "    conn.commit()\n",
    "    for word in words.keys():\n",
    "        name_word = word.replace(\"'\", \"\")\n",
    "        pos_tag = words[word]['pos_tag']\n",
    "        tf = words[word]['tf']\n",
    "        is_title = words[word]['is_title']\n",
    "        is_description = words[word]['is_description']\n",
    "        select_article = conn.cursor()\n",
    "        select_article.execute(\"SELECT id_article FROM ARTICLES WHERE LINK_ARTICLE = '\" + str(link) + \"';\")\n",
    "        for id_article in select_article:\n",
    "            article_id = id_article\n",
    "        insert_word = conn.cursor()\n",
    "        insert_word.execute(\"exec InsertWords @word = '\" + str(name_word) + \"', @pos_tag = '\" + str(pos_tag) + \"';\")        \n",
    "        conn.commit()\n",
    "        select_word = conn.cursor()\n",
    "        select_word.execute(\"SELECT id_word FROM WORDS WHERE WORD = '\" + str(name_word) + \"';\")\n",
    "        for id_word in select_word:\n",
    "            word_id = id_word\n",
    "        insert_belong = conn.cursor()\n",
    "        insert_belong.execute(\"exec InsertBelong @id_article = %d, @id_word = %d, @tf = %d, @is_description = %d, @is_title = %d ;\" \\\n",
    "                              %(int(str(article_id[0])), int(str(word_id[0])), int(tf), int(is_description), int(is_title)))\n",
    "        \n",
    "        conn.commit()\n",
    "    "
   ]
  },
  {
   "cell_type": "markdown",
   "metadata": {},
   "source": [
    "Le monde"
   ]
  },
  {
   "cell_type": "code",
   "execution_count": 162,
   "metadata": {},
   "outputs": [],
   "source": [
    "with open('../data/articles/clean_art_lmde.json', 'r') as f:\n",
    "    datas = json.load(f)"
   ]
  },
  {
   "cell_type": "code",
   "execution_count": 173,
   "metadata": {},
   "outputs": [
    {
     "data": {
      "application/vnd.jupyter.widget-view+json": {
       "model_id": "748a25f468dc4a7780f83cb3b23a908a",
       "version_major": 2,
       "version_minor": 0
      },
      "text/plain": [
       "HBox(children=(IntProgress(value=0, max=541), HTML(value='')))"
      ]
     },
     "metadata": {},
     "output_type": "display_data"
    }
   ],
   "source": [
    "for article in tqdm_notebook(datas.keys()):\n",
    "    author = datas[article]['authors'].replace(\"'\", \"\")\n",
    "    link = datas[article]['link']\n",
    "    newspaper = datas[article]['newspaper'] \n",
    "    publication_date = datas[article]['publication_date']\n",
    "    words = datas[article]['words'] \n",
    "    insert_newspaper = conn.cursor()\n",
    "    insert_newspaper.execute(\"exec InsertNewspaper @name_newspaper ='\" + str(newspaper) +\"';\")   \n",
    "    conn.commit()\n",
    "    select_newspaper = conn.cursor()\n",
    "    select_newspaper.execute(\"SELECT id_newspaper FROM NEWSPAPERS WHERE NAME_NEWSPAPER = '\" + str(newspaper) + \"';\")\n",
    "    for id_news in select_newspaper:\n",
    "        id_newspaper = id_news\n",
    "    insert_article = conn.cursor()\n",
    "    insert_article.execute(\"exec InsertArticles @link_article = '\" + str(link) + \"', @publication_date = '\" \\\n",
    "                           + str(publication_date) + \"', @authors = '\" + str(author) + \"', @id_newspaper = \" \\\n",
    "                           + str(id_newspaper[0]) + \";\")\n",
    "    conn.commit()\n",
    "    for word in words.keys():\n",
    "        name_word = word.replace(\"'\", \"\")\n",
    "        pos_tag = words[word]['pos_tag']\n",
    "        tf = words[word]['tf']\n",
    "        is_title = words[word]['is_title']\n",
    "        is_description = words[word]['is_description']\n",
    "        select_article = conn.cursor()\n",
    "        select_article.execute(\"SELECT id_article FROM ARTICLES WHERE LINK_ARTICLE = '\" + str(link) + \"';\")\n",
    "        for id_article in select_article:\n",
    "            article_id = id_article\n",
    "        insert_word = conn.cursor()\n",
    "        insert_word.execute(\"exec InsertWords @word = '\" + str(name_word) + \"', @pos_tag = '\" + str(pos_tag) + \"';\")        \n",
    "        conn.commit()\n",
    "        select_word = conn.cursor()\n",
    "        select_word.execute(\"SELECT id_word FROM WORDS WHERE WORD = '\" + str(name_word) + \"';\")\n",
    "        for id_word in select_word:\n",
    "            word_id = id_word\n",
    "        insert_belong = conn.cursor()\n",
    "        insert_belong.execute(\"exec InsertBelong @id_article = %d, @id_word = %d, @tf = %d, @is_description = %d, @is_title = %d ;\" \\\n",
    "                              %(int(str(article_id[0])), int(str(word_id[0])), int(tf), int(is_description), int(is_title)))\n",
    "        \n",
    "        conn.commit()\n",
    "    "
   ]
  },
  {
   "cell_type": "code",
   "execution_count": null,
   "metadata": {},
   "outputs": [],
   "source": []
  }
 ],
 "metadata": {
  "kernelspec": {
   "display_name": "Python 3",
   "language": "python",
   "name": "python3"
  },
  "language_info": {
   "codemirror_mode": {
    "name": "ipython",
    "version": 3
   },
   "file_extension": ".py",
   "mimetype": "text/x-python",
   "name": "python",
   "nbconvert_exporter": "python",
   "pygments_lexer": "ipython3",
   "version": "3.7.1"
  }
 },
 "nbformat": 4,
 "nbformat_minor": 2
}
