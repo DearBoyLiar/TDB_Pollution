{
 "cells": [
  {
   "cell_type": "code",
   "execution_count": 8,
   "metadata": {},
   "outputs": [],
   "source": [
    "import bs4\n",
    "import requests\n",
    "import pandas as pd\n",
    "import collections as col\n",
    "import spacy\n",
    "nlp = spacy.load('fr_core_news_sm')"
   ]
  },
  {
   "cell_type": "code",
   "execution_count": 9,
   "metadata": {},
   "outputs": [],
   "source": [
    "def parse_soup(url):\n",
    "    \"\"\"\n",
    "        The function parse the page with beautifulsoup\n",
    "        @param :  string containing the url of the rss feed\n",
    "        @return : object containing the parse page\n",
    "    \"\"\"\n",
    "    req = requests.get(url)\n",
    "    data = req.text\n",
    "    soup = bs4.BeautifulSoup(data, \"lxml\")\n",
    "    return(soup)\n",
    "\n",
    "def get_contents():\n",
    "    \"\"\"\n",
    "        We get the content of the different articles\n",
    "        @return ! dictionnary with the sentences by articles\n",
    "    \"\"\"\n",
    "    dictio = col.defaultdict(list)\n",
    "    data = pd.read_csv('url_articles_jdle.csv',sep=';')\n",
    "    try:\n",
    "        for i,url in enumerate(data['0']):\n",
    "            print(i,url)\n",
    "            soup = parse_soup(url)\n",
    "            # Content is in p tag\n",
    "            for bal in soup.find_all('p'):\n",
    "                if bal != None and len(bal.text) > 35 and '*' not in bal.text:\n",
    "                    dictio[i].append(str(bal.text))\n",
    "    except Exception as e:\n",
    "        # Max retries exceeded with url (le serveur nous rejette si trop de tentative en peu de temps, 12 par 1 minutes)\n",
    "        # Trouver une solution\n",
    "        print(e)\n",
    "    return dictio\n",
    "\n",
    "def clean_contents(contents):\n",
    "    \"\"\"\n",
    "        Remove the caracters with no sense in order to clean the content\n",
    "    \"\"\"\n",
    "    data = {}\n",
    "    for i in range(0,len(contents)):\n",
    "        # Drop the cookies relatives information in the website\n",
    "        contents[i] = contents[i][:-3]\n",
    "        \n",
    "        new_words = ''\n",
    "        # List of words conerning an article\n",
    "        words = ' '.join(contents[i])\n",
    "        \n",
    "        # Remove backslash caracter\n",
    "        for word in words.split():\n",
    "            if '\\\\' not in word:\n",
    "                new_words = new_words + \" \" + word\n",
    "                \n",
    "        # Clean basic caracters\n",
    "        contents[i] = nlp(new_words).text\n",
    "        data[i] = contents[i]\n",
    "    return data"
   ]
  },
  {
   "cell_type": "code",
   "execution_count": 11,
   "metadata": {},
   "outputs": [
    {
     "name": "stdout",
     "output_type": "stream",
     "text": [
      "0 http://www.journaldelenvironnement.net/article/une-plateforme-d-e-commerce-dit-adieu-aux-emballages-jetables,95839\n",
      "1 http://www.journaldelenvironnement.net/article/du-photovoltaique-a-fessenheim-c-est-parti,95830\n",
      "2 http://www.journaldelenvironnement.net/article/economie-circulaire-un-projet-de-loi-a-minima,95836\n",
      "3 http://www.journaldelenvironnement.net/article/stocamine-l-etat-persiste-et-signe,95788\n",
      "4 http://www.journaldelenvironnement.net/article/microplastiques-vers-une-interdiction-partielle-de-l-ue-en-2020,95770\n",
      "5 http://www.journaldelenvironnement.net/article/un-nouveau-contrat-de-filiere-dedie-a-la-valorisation-des-dechets,95761\n",
      "6 http://www.journaldelenvironnement.net/article/des-multinationales-s-allient-contre-les-dechets-plastiques,95698\n",
      "7 http://www.journaldelenvironnement.net/article/dechets-de-chantier-la-charte-de-bonnes-intentions-des-artisans,95695\n",
      "8 http://www.journaldelenvironnement.net/article/les-usines-de-desalinisation-polluent-plus-que-prevu,95650\n",
      "9 http://www.journaldelenvironnement.net/article/la-metropole-lyonnaise-baisse-enfin-sa-taxe-sur-les-ordures-menageres,95623\n",
      "10 http://www.journaldelenvironnement.net/article/les-pistes-du-gouvernement-pour-interdire-la-destruction-d-invendus,95620\n",
      "11 http://www.journaldelenvironnement.net/article/les-machines-au-secours-de-la-collecte-des-emballages,95572\n",
      "12 http://www.journaldelenvironnement.nethttp://www.journaldelenvironnement.net/article/prestations-de-services-logistiques-et-prestations-de-traitement-de-dechets-d-equipements-electriques-et-electroniques-professionnels,65457#xtor=AD-15\n",
      "HTTPConnectionPool(host='www.journaldelenvironnement.nethttp', port=80): Max retries exceeded with url: //www.journaldelenvironnement.net/article/prestations-de-services-logistiques-et-prestations-de-traitement-de-dechets-d-equipements-electriques-et-electroniques-professionnels,65457 (Caused by NewConnectionError('<urllib3.connection.HTTPConnection object at 0x000001E24B6C3BE0>: Failed to establish a new connection: [Errno 11001] getaddrinfo failed'))\n"
     ]
    },
    {
     "data": {
      "text/plain": [
       "{0: ' L’entreprise Terra Cycle a annoncé, ce 24 janvier, lors du Forum économique mondial de Davos, le lancement d’une plateforme d’e-commerce ayant essentiellement recours à des emballages réutilisés ou recyclés. Abonnez-vous au JDLE et soyez au cœur de l’information professionnelle en Hygiène, Sécurité et Environnement. Votre outil de veille environnementale 100 % numérique Prestations de services logistiques et prestations de traitement de dechets d’equipements electriques et electroniques professionnels ECO-SYSTEMES Moscou veut détruire une banque de semences unique La récupération d’eau de pluie pourrait coûter cher Micro-hydraulique: FNE s’inquiète du projet de relance... Les associations s’unissent pour défendre les éoliennes',\n",
       " 1: ' Le gouvernement a lancé, mercredi 23 janvier, l’appel d’offres pour la réalisation des centrales solaires de Fessenheim. Abonnez-vous au JDLE et soyez au cœur de l’information professionnelle en Hygiène, Sécurité et Environnement. Votre outil de veille environnementale 100 % numérique Prestations de services logistiques et prestations de traitement de dechets d’equipements electriques et electroniques professionnels ECO-SYSTEMES Moscou veut détruire une banque de semences unique La récupération d’eau de pluie pourrait coûter cher Micro-hydraulique: FNE s’inquiète du projet de relance... Les associations s’unissent pour défendre les éoliennes',\n",
       " 2: \" Attendu avant l’été en conseil des ministres, le projet de loi issu de la feuille de route sur l’économie circulaire (FREC) est réduit à la portion congrue. S’il s’attaque à la réduction des déchets plutôt qu’à leur recyclage, il donne carte blanche au gouvernement pour légiférer par voie d’ordonnance. Publié le 23 janvier par notre confrère de Déchets Infos, le projet de loi sur l’économie circulaire fait beaucoup de mécontents. A commencer par les membres du Conseil national de la transition écologique (CNTE), qui ont découvert le texte dans la presse alors qu'il devait leur être présenté le 17 janvier dernier... Sur le fond, le projet de loi a pour mission de transposer, comme prévu, les directives européennes regroupées au sein du paquet sur l’économie circulaire: la directive-cadre révisée et ses nouveaux objectifs de recyclage des déchets municipaux d’ici 2025 (55%), 2030 (60%) et 2035 (65%), ainsi que la directive sur les emballages et déchets d’emballages et la directive sur la mise en décharge. Ensuite, il prétend orchestrer les grandes lignes de la feuille de route nationale présentée le 23 avril dernier par le Premier ministre Edouard Philippe. Une réforme des filières REP sur ordonnance Dans les deux cas, le bât blesse pour une raison simple. Le dernier article du texte (art 6) autorise le gouvernement à légiférer par voie d’ordonnance sur les deux sujets d’importance: la transposition des trois directives européennes et la réforme de la gouvernance des filières à responsabilité élargie du producteur (REP), réclamée depuis plusieurs années au regard des piètres résultats de certaines filières. Des ordonnances dont la publication doit intervenir dans les 6 mois et dans les 12 mois suivant celle de la loi. Devant le CNTE, la secrétaire d'Etat Brune Poirson a affirmé que ce choix avait été fait «pour éviter que les lobbies n’influencent le débat parlementaire». Ce qui n'a pas rassuré les députés ni les sénateurs... «Si cette version du projet de loi était retenue, ce serait une nouvelle manifestation du mépris dont témoigne l’exécutif à l’égard du Parlement, accusé par ailleurs d’être le réceptacle des lobbies», a réagi le Sénat dans un communiqué. «Il serait incompréhensible qu’au moment où le Président de la République se déplace dans toute la France pour débattre du quotidien et des priorités des Français, le grand débat s’arrête aux portes du Parlement ! Ce gouvernement a la fâcheuse habitude de recourir aux ordonnances pour ses réformes. Ce sujet, qui concerne le quotidien des Français et des collectivités locales, mérite incontestablement un débat parlementaire public, démocratique et transparent», a ajouté Hervé Maurey, président de la commission de l’aménagement du territoire et du développement durable de la Chambre haute. Même déception dans le secteur du recyclage. «Les ordonnances ne nous rassurent pas sur la transparence», a indiqué Jean-Philippe Carpentier, président de Federec[1], à l’AFP. «La plupart des sujets importants comme les consignes de tri, la valorisation e?nerge?tique, le tri mécano-biologique, les biode?chets, la gouvernance des fillères REP et des éco-organismes, le malus pour les biens non-réparables, et le système de consigne sont renvoyés à des ordonnances et donc soustraits à la transparence du débat démocratique», estime de son côté l'avocat Emile Meunier. Indice de réparabilité et pièces détachées Pour le reste, le texte attaque plutôt les déchets sur le front de leur réduction que de leur recyclage. L’article 1er du projet de loi vise ainsi à améliorer l’information du consommateur pour privilégier la réparation et le recours à des pièces détachées issues de l’économie circulaire. Comme déjà annoncé par la secrétaire d’Etat Brune Poirson, les équipements électriques et électroniques devront afficher, à partir du 1er janvier 2020, un indice de réparabilité basé sur des critères mis au point par l’Agence de l’environnement et de la maîtrise de l’énergie (Ademe). Dans la même logique, l’article 2 impose aux fabricants de produits électriques et électroniques et d’éléments d’ameublement d’informer sur la disponibilité ou non des pièces détachées à partir du 1er janvier 2021 et de proposer, dans la mesure du possible, des pièces issues de l’économie circulaire, comme c’est déjà le cas pour la réparation automobile. Jusqu’à présent, seule la durée des pièces détachées disponibles était imposée. Moins ambitieux, l’article 3 s’intéresse à la publicité faite aux produits de consommation. Il interdit tout message incitant à la dégradation volontaire de produits pouvant être réemployés ou réutilisés. L’article suivant prévoit aussi d’interdire, à partir de 2022, la distribution d’imprimés publicitaires et de catalogues commerciaux non sollicités, imprimés avec des encres contenant des huiles minérales (c’est le cas en grande majorité). Leur poids n’est pas anecdotique: ces papiers indésirables pèsent chaque année 800.000 tonnes de déchets, soit 14 kilogrammes par habitant. Dont le coût de traitement revient aux collectivités et donc aux contribuables… Plusieurs enseignes ont déjà senti le vent tourner, dont Monoprix (groupe Casino) qui a arrêté la distribution de catalogues papier (environ 30 millions par an) depuis le 1er janvier 2019. La destruction des invendus peu contrainte Malgré le scandale Amazon, le ministère de la transition fera peu pour lutter contre la destruction des invendus. Son texte se contente d’«orienter les invendus de textiles, linge de maison et chaussures en priorité vers le réemploi, la réutilisation et le recyclage» à partir de 2020, selon la hiérarchie des modes de traitement imposée dans l’Union européenne depuis 2008. La mesure ne concerne donc pas les produits électriques et électroniques et ne prévoit pas non plus d’amende en cas de destruction effective. Contrairement à ce qu'avait annoncé Brune Poirson sur le plateau de l'émission Capital. [1] Fédération des entreprises du recyclage Carbone: l’Ademe dévoile la face cachée des produits courants 26/09/2018 Le littoral varois pollué par des boulettes d’hydrocarbures 18/10/2018 Carton rouge pour Amazon 25/09/2018 La moitié de l'Europe mal partie pour recycler ses déchets 25/09/2018 Stocamine: un rapport plaide pour une extraction des déchets 17/09/2018 Pepsi utilisera 50% de plastique recyclé en France en 2025 10/09/2018 Votre outil de veille environnementale 100 % numérique Prestations de services logistiques et prestations de traitement de dechets d’equipements electriques et electroniques professionnels ECO-SYSTEMES Moscou veut détruire une banque de semences unique La récupération d’eau de pluie pourrait coûter cher Micro-hydraulique: FNE s’inquiète du projet de relance... Les associations s’unissent pour défendre les éoliennes\",\n",
       " 3: '',\n",
       " 4: ' L’Agence européenne des produits chimiques (ECHA) va suggérer dans l’année d’interdire l’usage volontaire de certains microplastiques, intégrés à des produits tels les cosmétiques, les détergents et les engrais, a-t-elle annoncé lors d’une conférence sur les plastiques organisée vendredi 18 janvier à Helsinki. Abonnez-vous au JDLE et soyez au cœur de l’information professionnelle en Hygiène, Sécurité et Environnement. Votre outil de veille environnementale 100 % numérique Prestations de services logistiques et prestations de traitement de dechets d’equipements electriques et electroniques professionnels ECO-SYSTEMES Moscou veut détruire une banque de semences unique La récupération d’eau de pluie pourrait coûter cher Micro-hydraulique: FNE s’inquiète du projet de relance... Les associations s’unissent pour défendre les éoliennes',\n",
       " 5: ' L’Etat et des entreprises spécialisées dans la transformation et la valorisation des déchets ont signé, le 18 janvier, un nouveau contrat de filière. L’occasion pour les professionnels de demander des moyens supplémentaires pour concrétiser l’essor de l’économie circulaire dans l’Hexagone. Abonnez-vous au JDLE et soyez au cœur de l’information professionnelle en Hygiène, Sécurité et Environnement. Votre outil de veille environnementale 100 % numérique Prestations de services logistiques et prestations de traitement de dechets d’equipements electriques et electroniques professionnels ECO-SYSTEMES Moscou veut détruire une banque de semences unique La récupération d’eau de pluie pourrait coûter cher Micro-hydraulique: FNE s’inquiète du projet de relance... Les associations s’unissent pour défendre les éoliennes',\n",
       " 6: ' Une vingtaine de multinationales de la pétrochimie, de la fabrication de plastiques et de la gestion des déchets ont lancé, ce 16 janvier, l’Alliance internationale pour mettre fin aux déchets plastiques (AEPW). Elles s’engagent à verser 1,3 milliards d’euros dans les 5 ans pour financer des projets visant l’éco-conception, le nettoyage et le recyclage. Abonnez-vous au JDLE et soyez au cœur de l’information professionnelle en Hygiène, Sécurité et Environnement. Votre outil de veille environnementale 100 % numérique Prestations de services logistiques et prestations de traitement de dechets d’equipements electriques et electroniques professionnels ECO-SYSTEMES Moscou veut détruire une banque de semences unique La récupération d’eau de pluie pourrait coûter cher Micro-hydraulique: FNE s’inquiète du projet de relance... Les associations s’unissent pour défendre les éoliennes',\n",
       " 7: ' Une charte de bonnes pratiques a été présentée, le 15 janvier, par la principale fédération des artisans du bâtiment (Capeb)[1], en collaboration avec la Fnade et Federec[2] BTP. Objectif: éviter la mise en place d’une filière à responsabilité élargie du producteur (REP) par le ministère de la transition écologique. [1] Confédération de l’artisanat et des petites entreprises du bâtiment, qui regroupe 350.00 entreprises de moins de 20 salariés [2] Fnade : Fédération nationales des activités de dépollution et de l’environnement; Federec: Fédération professionnelle des entreprises du recyclage Abonnez-vous au JDLE et soyez au cœur de l’information professionnelle en Hygiène, Sécurité et Environnement. Votre outil de veille environnementale 100 % numérique Prestations de services logistiques et prestations de traitement de dechets d’equipements electriques et electroniques professionnels ECO-SYSTEMES Moscou veut détruire une banque de semences unique La récupération d’eau de pluie pourrait coûter cher Micro-hydraulique: FNE s’inquiète du projet de relance... Les associations s’unissent pour défendre les éoliennes',\n",
       " 8: ' De plus en plus répandues dans le monde, les usines de dessalement produisent davantage de rejets toxiques que d’eau douce, selon une étude de l’Université des Nations unies publiée le 14 janvier dans la revue Science of the Total Environment. Abonnez-vous au JDLE et soyez au cœur de l’information professionnelle en Hygiène, Sécurité et Environnement. Votre outil de veille environnementale 100 % numérique Prestations de services logistiques et prestations de traitement de dechets d’equipements electriques et electroniques professionnels ECO-SYSTEMES Moscou veut détruire une banque de semences unique La récupération d’eau de pluie pourrait coûter cher Micro-hydraulique: FNE s’inquiète du projet de relance... Les associations s’unissent pour défendre les éoliennes',\n",
       " 9: ' Contrainte par la justice, la métropole lyonnaise devrait adopter, le 28 janvier, une baisse de 5 à 10% de la taxe d’enlèvement des ordures ménagères (TEOM) pour 2019. Abonnez-vous au JDLE et soyez au cœur de l’information professionnelle en Hygiène, Sécurité et Environnement. Votre outil de veille environnementale 100 % numérique Prestations de services logistiques et prestations de traitement de dechets d’equipements electriques et electroniques professionnels ECO-SYSTEMES Moscou veut détruire une banque de semences unique La récupération d’eau de pluie pourrait coûter cher Micro-hydraulique: FNE s’inquiète du projet de relance... Les associations s’unissent pour défendre les éoliennes',\n",
       " 10: ' La secrétaire d’Etat Brune Poirson a annoncé, le 13 janvier sur le plateau de l’émission Capital (M6), que le projet de loi sur l’économie circulaire attendu avant l’été interdirait aux entreprises de détruire leurs invendus. A la clé: des amendes par tonne détruite et une obligation de dons. Abonnez-vous au JDLE et soyez au cœur de l’information professionnelle en Hygiène, Sécurité et Environnement. Votre outil de veille environnementale 100 % numérique Prestations de services logistiques et prestations de traitement de dechets d’equipements electriques et electroniques professionnels ECO-SYSTEMES Moscou veut détruire une banque de semences unique La récupération d’eau de pluie pourrait coûter cher Micro-hydraulique: FNE s’inquiète du projet de relance... Les associations s’unissent pour défendre les éoliennes',\n",
       " 11: \" Pour améliorer le taux de collecte des emballages, l’éco-organisme Citeo lance un appel à manifestation d’intérêt (AMI) doté d’une enveloppe de 6 millions d’euros. Objectif: déployer des dispositifs innovants et solidaires dans les zones denses et touristiques. Davantage de collecte, c’est plus de recyclage. Voici en résumé l’équation de l’éco-organisme français chargé des déchets d’emballages, en réponse à la feuille de route sur l’économie circulaire présentée en avril dernier, et à son objectif de «tendre vers 100% de plastiques recyclés en 2025». Avec 22,2% de plastiques recyclés en 2017, la route du tout recyclage va toutefois être longue… Sous la pression du ministère de la transition écologique, Citeo propose de collecter davantage d’emballages dans les territoires affichant les plus mauvais résultats. Soient les centres urbains denses, les zones d’habitat collectif, les collectivités touristiques et les territoires ultra-marins. La hausse de la collecte avait déjà été retenue lors de l’extension des consignes de tri sur le territoire. Mais celle-ci peine à se déployer dans l’Hexagone. Au mieux, elle touchera 9 millions de personnes d’ici la fin 2019. Cette fois-ci, l’éco-organisme fait un appel à l’innovation pour déployer de nouvelles solutions de collecte, à côté des traditionnels bacs collectés par les collectivités locales. «Doté de 6 millions d’euros jusqu’en 2022, cet appel à manifestation d’intérêt financera 20 solutions sélectionnées conjointement par le ministère de la transition écologique, Citeo et l’Ademe[1]», a précisé la secrétaire d’Etat Brune Poirson. Les projets retenus pour la collecte des emballages et des papiers pourront ensuite être expérimentés par des collectivités et des entreprises pendant 18 mois au maximum. A noter que le financement d’un dispositif est plafonné à 200.000 €, et à 250.000 € s’il répond aussi à une cause solidaire, comme un don à une association caritative. «Nous favoriserons des projets différents, qui peuvent être répliqués», a précisé Marc Cheverry, chef du service Prévention et gestion des déchets à l’Ademe. Un cahier des charges pour l’automate de collecte Le cahier des charges semble pourtant écrit pour un dispositif-type: l’automate récupérant des bouteilles et des canettes dans des supermarchés ou des lieux publics. Il répond en effet au critère solidaire, en permettant de verser à chaque dépôt une somme à une association caritative. S’il est récent, ce dispositif n’est pas totalement nouveau puisqu’il est déjà «déployé dans 120 magasins en France», selon Augustin Jaclin, co-fondateur de la start-up Lemon Tri en 2011. Cette jeune société participe en effet aux deux expérimentations mises en place par Citeo depuis 2015. Au total, 150 à 160 supermarchés Franprix, Monoprix, Casino, Proxi, Carrefour, Intermarché, Lidl, et Leclerc devraient être équipés d’ici la fin de l’année. En moyenne, 30 tonnes de plastiques sont collectés chaque semaine. Soit environ 300.000 bouteilles. Un système similaire, en cours d’expérimentation au Royaume-Uni, rencontre un franc succès. A une nuance près: le consommateur reçoit 10 pence de bon d’achat à chaque dépôt. Selon nos informations, Lemon Tri devrait annoncer, avant la fin du premier trimestre, le déploiement d’un autre réseau de points de collecte mis en place par Coca-Cola. [1] Agence de l’environnement et de la maîtrise de l’énergie Carbone: l’Ademe dévoile la face cachée des produits courants 26/09/2018 Le littoral varois pollué par des boulettes d’hydrocarbures 18/10/2018 Carton rouge pour Amazon 25/09/2018 La moitié de l'Europe mal partie pour recycler ses déchets 25/09/2018 Stocamine: un rapport plaide pour une extraction des déchets 17/09/2018 Pepsi utilisera 50% de plastique recyclé en France en 2025 10/09/2018 Votre outil de veille environnementale 100 % numérique Prestations de services logistiques et prestations de traitement de dechets d’equipements electriques et electroniques professionnels ECO-SYSTEMES Moscou veut détruire une banque de semences unique La récupération d’eau de pluie pourrait coûter cher Micro-hydraulique: FNE s’inquiète du projet de relance... Les associations s’unissent pour défendre les éoliennes\"}"
      ]
     },
     "execution_count": 11,
     "metadata": {},
     "output_type": "execute_result"
    }
   ],
   "source": [
    "clean_contents(get_contents())"
   ]
  },
  {
   "cell_type": "code",
   "execution_count": null,
   "metadata": {},
   "outputs": [],
   "source": []
  }
 ],
 "metadata": {
  "kernelspec": {
   "display_name": "Python 3",
   "language": "python",
   "name": "python3"
  },
  "language_info": {
   "codemirror_mode": {
    "name": "ipython",
    "version": 3
   },
   "file_extension": ".py",
   "mimetype": "text/x-python",
   "name": "python",
   "nbconvert_exporter": "python",
   "pygments_lexer": "ipython3",
   "version": "3.7.0"
  }
 },
 "nbformat": 4,
 "nbformat_minor": 2
}
