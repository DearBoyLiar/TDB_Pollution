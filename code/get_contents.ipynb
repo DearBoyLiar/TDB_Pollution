{
 "cells": [
  {
   "cell_type": "code",
   "execution_count": 1,
   "metadata": {},
   "outputs": [],
   "source": [
    "import bs4\n",
    "import requests\n",
    "import pandas as pd\n",
    "import collections as col\n",
    "import spacy \n",
    "nlp = spacy.load('fr_core_news_sm')\n",
    "import math\n",
    "import datetime\n",
    "from tqdm import tqdm"
   ]
  },
  {
   "cell_type": "code",
   "execution_count": 2,
   "metadata": {},
   "outputs": [],
   "source": [
    "def parse_soup(url):\n",
    "    \"\"\"\n",
    "        The function parse the page with beautifulsoup\n",
    "        @param :  string containing the url of the rss feed\n",
    "        @return : object containing the parse page\n",
    "    \"\"\"\n",
    "    req = requests.get(url)\n",
    "    data = req.text\n",
    "    soup = bs4.BeautifulSoup(data, \"lxml\")\n",
    "    return(soup)\n",
    "\n",
    "def get_contents(path,tag):\n",
    "    \"\"\"\n",
    "        We get the content of the different articles\n",
    "        @return ! dictionnary with the sentences by articles\n",
    "    \"\"\"\n",
    "    contents = col.defaultdict(list)\n",
    "    data = pd.read_csv(path,sep=';')\n",
    "    try:\n",
    "        for i,url in tqdm(enumerate(data['0'])):\n",
    "            # Get the content of the page relative to an article\n",
    "            soup = parse_soup(url)\n",
    "            \n",
    "            # Content is in p tag\n",
    "            for bal in soup.find_all(tag):\n",
    "                if bal != None and len(bal.text) > 35 and '*' not in bal.text:\n",
    "                    contents[i].append(str(bal.text))\n",
    "                    \n",
    "            # Get clean content by article\n",
    "            content = clean_content(contents[i])\n",
    "            \n",
    "            # Create the json file, containg an article's content\n",
    "            create_json_files(content,i,'../data/articles/jdle/')\n",
    "            \n",
    "    except Exception as e:\n",
    "        print(e)\n",
    "\n",
    "def clean_content(content):\n",
    "    \"\"\"\n",
    "        Remove the inapropriate caracters/words in order to clean the content\n",
    "    \"\"\"\n",
    "    # Drop the cookies relatives information in the website\n",
    "    content = content[:-3]\n",
    "\n",
    "    new_words = ''\n",
    "    # List of an article's words\n",
    "    words = ' '.join(content)\n",
    "\n",
    "    # Remove backslash caracters/words\n",
    "    for word in words.split():\n",
    "        if '\\\\' not in word:\n",
    "            new_words = new_words + \" \" + word\n",
    "\n",
    "    # Clean basic bad caracters\n",
    "    content = nlp(new_words).text\n",
    "    \n",
    "    return content\n",
    "\n",
    "def create_json_files(content,i,path):\n",
    "    \"\"\"\n",
    "        Transform each article into a json file\n",
    "        @param articles : all articles scraped\n",
    "        @param i : the rough article id\n",
    "        @param path : path where the json files are stored\n",
    "    \"\"\"\n",
    "    try:\n",
    "        date_creation = datetime.datetime.now().strftime(\"%Y-%m-%d\")\n",
    "        # hash_id = hash(i*math.pi+1.76899898898898e+10) # get a unique hashed value by article (could be changed)\n",
    "        df = pd.DataFrame([content],\n",
    "                          index=[i],\n",
    "                          columns=['content'])\n",
    "        \n",
    "        filename = 'art_'+str(i)+'_'+date_creation+'.json'\n",
    "        \n",
    "        with open(path + filename, 'w', encoding='utf-8') as file:\n",
    "            df.to_json(file, orient='index',force_ascii=False)\n",
    "            \n",
    "    except Exception as e:\n",
    "        print(e)"
   ]
  },
  {
   "cell_type": "code",
   "execution_count": 3,
   "metadata": {},
   "outputs": [
    {
     "name": "stderr",
     "output_type": "stream",
     "text": [
      "26it [00:14,  1.77it/s]\n"
     ]
    }
   ],
   "source": [
    "get_contents('../data/links/url_articles_jdle.csv','p')"
   ]
  },
  {
   "cell_type": "code",
   "execution_count": null,
   "metadata": {},
   "outputs": [],
   "source": []
  },
  {
   "cell_type": "code",
   "execution_count": null,
   "metadata": {},
   "outputs": [],
   "source": []
  }
 ],
 "metadata": {
  "kernelspec": {
   "display_name": "Python 3",
   "language": "python",
   "name": "python3"
  },
  "language_info": {
   "codemirror_mode": {
    "name": "ipython",
    "version": 3
   },
   "file_extension": ".py",
   "mimetype": "text/x-python",
   "name": "python",
   "nbconvert_exporter": "python",
   "pygments_lexer": "ipython3",
   "version": "3.6.5"
  }
 },
 "nbformat": 4,
 "nbformat_minor": 2
}
