{
 "cells": [
  {
   "cell_type": "code",
   "execution_count": 1,
   "metadata": {},
   "outputs": [],
   "source": [
    "import bs4\n",
    "import requests\n",
    "import pandas as pd\n",
    "from tqdm import tqdm"
   ]
  },
  {
   "cell_type": "code",
   "execution_count": 2,
   "metadata": {},
   "outputs": [],
   "source": [
    "def parse_soup(url):\n",
    "    \"\"\"\n",
    "        The function parse the page with beautifulsoup\n",
    "        @param :  string containing the url of the rss feed\n",
    "        @return : object containing the parse page\n",
    "    \"\"\"\n",
    "    req = requests.get(url)\n",
    "    data = req.text\n",
    "    soup = bs4.BeautifulSoup(data, \"lxml\")\n",
    "    return(soup)\n",
    "\n",
    "def create_csv(content,name):\n",
    "    \"\"\"\n",
    "        Transform a list into a csv file\n",
    "    \"\"\"\n",
    "    pd.DataFrame(content).to_csv(name,sep=';')"
   ]
  },
  {
   "cell_type": "code",
   "execution_count": 3,
   "metadata": {
    "scrolled": true
   },
   "outputs": [
    {
     "name": "stderr",
     "output_type": "stream",
     "text": [
      "1it [02:06, 126.42s/it]"
     ]
    },
    {
     "name": "stdout",
     "output_type": "stream",
     "text": [
      "http://www.journaldelenvironnement.net/article/extraire-les-plastiques-flottants-une-goutte-d-eau-dans-l-ocean,93520\n",
      "http://www.journaldelenvironnement.net/article/plastiques-marins-le-monstre-du-pacifique-grossit-a-vue-d-il,91033\n",
      "http://www.journaldelenvironnement.net/article/90-des-bouteilles-d-eau-contiennent-du-plastique,90919\n",
      "http://www.journaldelenvironnement.net/article/des-fontaines-d-eau-contre-les-dechets-plastique,90031\n",
      "http://www.journaldelenvironnement.net/article/du-plastique-cache-dans-l-eau-du-robinet,85864\n",
      "http://www.journaldelenvironnement.net/article/premiere-cartographie-de-la-pollution-plastique-des-oceans,81606\n",
      "http://www.journaldelenvironnement.net/article/les-oiseaux-de-mer-attires-par-l-odeur-des-micro-plastiques,76527\n",
      "http://www.journaldelenvironnement.net/article/microplastiques-le-royaume-uni-alimente-l-ocean-arctique,72324\n",
      "http://www.journaldelenvironnement.net/article/continents-de-plastique-par-ici-la-sortie,70368\n",
      "http://www.journaldelenvironnement.net/article/plastiques-en-mer-la-sante-des-huitres-s-en-ressent,66678\n",
      "http://www.journaldelenvironnement.net/article/plastiques-en-mer-mieux-vaut-agir-pres-des-cotes,66252\n",
      "http://www.journaldelenvironnement.net/article/les-micro-plastiques-affectent-aussi-les-organismes-d-eau-douce,51400\n",
      "http://www.journaldelenvironnement.net/article/micro-plastiques-une-pollution-generalisee-a-la-surface-des-oceans,47764\n",
      "http://www.journaldelenvironnement.net/article/plastiques-la-pollution-marine-coute-au-moins-10-md,47376\n",
      "http://www.journaldelenvironnement.net/article/les-eaux-australiennes-aussi-sont-saturees-de-plastiques,39850\n",
      "http://www.journaldelenvironnement.net/article/la-concentration-des-dechets-plastique-a-explose-dans-le-pacifique,28952\n",
      "http://www.journaldelenvironnement.net/article/du-plastique-dans-9-des-poissons-du-pacifique,23961\n"
     ]
    },
    {
     "name": "stderr",
     "output_type": "stream",
     "text": [
      "\r",
      "2it [07:56, 193.56s/it]"
     ]
    },
    {
     "name": "stdout",
     "output_type": "stream",
     "text": [
      "http://www.journaldelenvironnement.net/article/extraire-les-plastiques-flottants-une-goutte-d-eau-dans-l-ocean,93520\n",
      "http://www.journaldelenvironnement.net/article/plastiques-marins-le-monstre-du-pacifique-grossit-a-vue-d-il,91033\n",
      "http://www.journaldelenvironnement.net/article/90-des-bouteilles-d-eau-contiennent-du-plastique,90919\n",
      "http://www.journaldelenvironnement.net/article/des-fontaines-d-eau-contre-les-dechets-plastique,90031\n",
      "http://www.journaldelenvironnement.net/article/du-plastique-cache-dans-l-eau-du-robinet,85864\n",
      "http://www.journaldelenvironnement.net/article/premiere-cartographie-de-la-pollution-plastique-des-oceans,81606\n",
      "http://www.journaldelenvironnement.net/article/les-oiseaux-de-mer-attires-par-l-odeur-des-micro-plastiques,76527\n",
      "http://www.journaldelenvironnement.net/article/microplastiques-le-royaume-uni-alimente-l-ocean-arctique,72324\n",
      "http://www.journaldelenvironnement.net/article/continents-de-plastique-par-ici-la-sortie,70368\n",
      "http://www.journaldelenvironnement.net/article/plastiques-en-mer-la-sante-des-huitres-s-en-ressent,66678\n",
      "http://www.journaldelenvironnement.net/article/plastiques-en-mer-mieux-vaut-agir-pres-des-cotes,66252\n",
      "http://www.journaldelenvironnement.net/article/les-micro-plastiques-affectent-aussi-les-organismes-d-eau-douce,51400\n",
      "http://www.journaldelenvironnement.net/article/micro-plastiques-une-pollution-generalisee-a-la-surface-des-oceans,47764\n",
      "http://www.journaldelenvironnement.net/article/plastiques-la-pollution-marine-coute-au-moins-10-md,47376\n",
      "http://www.journaldelenvironnement.net/article/san-francisco-veut-limiter-les-bouteilles-d-eau-en-plastique,43652\n",
      "http://www.journaldelenvironnement.net/article/la-concentration-des-dechets-plastique-a-explose-dans-le-pacifique,28952\n"
     ]
    },
    {
     "name": "stderr",
     "output_type": "stream",
     "text": [
      "\r",
      "3it [10:27, 180.88s/it]"
     ]
    },
    {
     "name": "stdout",
     "output_type": "stream",
     "text": [
      "http://www.journaldelenvironnement.net/article/microplastiques-le-royaume-uni-alimente-l-ocean-arctique,72324\n"
     ]
    },
    {
     "name": "stderr",
     "output_type": "stream",
     "text": [
      "5it [20:09, 248.03s/it]"
     ]
    },
    {
     "name": "stdout",
     "output_type": "stream",
     "text": [
      "http://www.journaldelenvironnement.net/article/plastiques-en-mer-la-sante-des-huitres-s-en-ressent,66678\n"
     ]
    },
    {
     "name": "stderr",
     "output_type": "stream",
     "text": [
      "8it [32:48, 226.86s/it]\n"
     ]
    }
   ],
   "source": [
    "# Create a list of articles url\n",
    "def get_url_articles_jdle(soup_link_website,website_link,nb_max_pages):\n",
    "    \"\"\"\n",
    "        Based on the links passed in parameter, we get the url articles of the website\n",
    "        @return :  A list of links of articles\n",
    "    \"\"\"\n",
    "    link_articles = []\n",
    "    key_words = ['-eau-', '-eaux-','-ocean-','-oceans-','-mer-','pacifique','pollution','continent']\n",
    "    try:\n",
    "        # Get all pages of the website\n",
    "        for i in range(1,nb_max_pages):\n",
    "            # Get all articles in a page\n",
    "            soup = parse_soup(soup_link_website + '/' + str(i))\n",
    "\n",
    "            #Select only the link of the articles\n",
    "            for article_link in soup.find_all('a'):\n",
    "                if article_link.get(\"href\") != None and '#' not in article_link.get(\"href\") and any(word in article_link.get(\"href\").lower() for word in ['plastique','dechets']) and any(word in article_link.get(\"href\").lower() for word in key_words):\n",
    "                    new_article = website_link + article_link.get(\"href\")\n",
    "                    link_articles.append(new_article)\n",
    "    except Exception as e:\n",
    "        print(e)\n",
    "    return list(set(link_articles))\n",
    "\n",
    "themes = [\"air\",\"eau\",\"dechets\",\"climat\",\"risques-sante\",\"sites-sols\",\"energie\",\"politque-sante\"]\n",
    "nb_pages_by_themes = [200,370,260,180,500,470,500,500]\n",
    "website_link= \"http://www.journaldelenvironnement.net\"\n",
    "path = '../data/links/url_articles_jdle.csv'\n",
    "\n",
    "links_result = []\n",
    "for i,theme in tqdm(enumerate(themes)):\n",
    "    links_result = links_result + get_url_articles_jdle(website_link+'/'+theme,website_link,nb_pages_by_themes[i])"
   ]
  },
  {
   "cell_type": "code",
   "execution_count": 4,
   "metadata": {},
   "outputs": [
    {
     "data": {
      "text/plain": [
       "(18, 2)"
      ]
     },
     "execution_count": 4,
     "metadata": {},
     "output_type": "execute_result"
    }
   ],
   "source": [
    "create_csv(list(set(links_result)),path)\n",
    "pd.read_csv('../data/links/url_articles_jdle.csv',sep=';').shape"
   ]
  },
  {
   "cell_type": "code",
   "execution_count": null,
   "metadata": {},
   "outputs": [],
   "source": []
  }
 ],
 "metadata": {
  "kernelspec": {
   "display_name": "Python 3",
   "language": "python",
   "name": "python3"
  },
  "language_info": {
   "codemirror_mode": {
    "name": "ipython",
    "version": 3
   },
   "file_extension": ".py",
   "mimetype": "text/x-python",
   "name": "python",
   "nbconvert_exporter": "python",
   "pygments_lexer": "ipython3",
   "version": "3.7.0"
  }
 },
 "nbformat": 4,
 "nbformat_minor": 2
}
